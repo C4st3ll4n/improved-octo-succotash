{
 "cells": [
  {
   "cell_type": "code",
   "execution_count": 1,
   "id": "initial_id",
   "metadata": {
    "is_executing": true
   },
   "outputs": [],
   "source": [
    "import pandas as pd"
   ]
  },
  {
   "cell_type": "code",
   "execution_count": 12,
   "id": "13a94a755ea19feb",
   "metadata": {
    "collapsed": false,
    "ExecuteTime": {
     "end_time": "2024-11-22T04:59:45.952695500Z",
     "start_time": "2024-11-22T04:59:45.807648400Z"
    }
   },
   "outputs": [],
   "source": [
    "import requests"
   ]
  },
  {
   "cell_type": "code",
   "execution_count": 15,
   "id": "249ee9be-9fc9-458e-98ba-ca71d8cd7013",
   "metadata": {
    "ExecuteTime": {
     "end_time": "2024-11-22T05:00:09.394213300Z",
     "start_time": "2024-11-22T05:00:09.371288200Z"
    }
   },
   "outputs": [],
   "source": [
    "import json"
   ]
  },
  {
   "cell_type": "code",
   "execution_count": 17,
   "id": "c1cb9b9c-3720-44fc-8241-eda07593d702",
   "metadata": {
    "ExecuteTime": {
     "end_time": "2024-11-22T05:00:45.508830300Z",
     "start_time": "2024-11-22T05:00:45.487831400Z"
    }
   },
   "outputs": [],
   "source": [
    "URL = \"http://127.0.0.1:5000/predict\""
   ]
  },
  {
   "cell_type": "code",
   "execution_count": 4,
   "id": "25b3f902-204a-429a-99be-e1382b617549",
   "metadata": {
    "ExecuteTime": {
     "end_time": "2024-11-22T04:49:13.425049300Z",
     "start_time": "2024-11-22T04:49:13.416048600Z"
    }
   },
   "outputs": [],
   "source": [
    "data = pd.DataFrame({\n",
    "    \"age\": [60, 21, 24],\n",
    "    \"bmi\": [18, 36, 25],\n",
    "    \"children\": [0, 2, 0],\n",
    "    \"smoker\": [\"no\", \"yes\", \"no\"]\n",
    "})"
   ]
  },
  {
   "cell_type": "code",
   "execution_count": 5,
   "id": "d5d5e965-1b6e-4769-9265-e2786c640165",
   "metadata": {
    "ExecuteTime": {
     "end_time": "2024-11-22T04:57:53.383296Z",
     "start_time": "2024-11-22T04:57:53.341296400Z"
    }
   },
   "outputs": [
    {
     "data": {
      "text/plain": "   age  bmi  children smoker\n0   60   18         0     no\n1   21   36         2    yes\n2   24   25         0     no",
      "text/html": "<div>\n<style scoped>\n    .dataframe tbody tr th:only-of-type {\n        vertical-align: middle;\n    }\n\n    .dataframe tbody tr th {\n        vertical-align: top;\n    }\n\n    .dataframe thead th {\n        text-align: right;\n    }\n</style>\n<table border=\"1\" class=\"dataframe\">\n  <thead>\n    <tr style=\"text-align: right;\">\n      <th></th>\n      <th>age</th>\n      <th>bmi</th>\n      <th>children</th>\n      <th>smoker</th>\n    </tr>\n  </thead>\n  <tbody>\n    <tr>\n      <th>0</th>\n      <td>60</td>\n      <td>18</td>\n      <td>0</td>\n      <td>no</td>\n    </tr>\n    <tr>\n      <th>1</th>\n      <td>21</td>\n      <td>36</td>\n      <td>2</td>\n      <td>yes</td>\n    </tr>\n    <tr>\n      <th>2</th>\n      <td>24</td>\n      <td>25</td>\n      <td>0</td>\n      <td>no</td>\n    </tr>\n  </tbody>\n</table>\n</div>"
     },
     "execution_count": 5,
     "metadata": {},
     "output_type": "execute_result"
    }
   ],
   "source": [
    "data"
   ]
  },
  {
   "cell_type": "code",
   "execution_count": 8,
   "id": "4ffdd2f5-6249-4a2c-989e-e413e5ba97c6",
   "metadata": {
    "ExecuteTime": {
     "end_time": "2024-11-22T04:58:48.336835100Z",
     "start_time": "2024-11-22T04:58:48.323835400Z"
    }
   },
   "outputs": [],
   "source": [
    "input_pred = data.to_dict(orient=\"records\")"
   ]
  },
  {
   "cell_type": "code",
   "outputs": [],
   "source": [
    "input_pred = {\n",
    "    \"data\": input_pred\n",
    "}"
   ],
   "metadata": {
    "collapsed": false,
    "ExecuteTime": {
     "end_time": "2024-11-22T04:59:01.960209900Z",
     "start_time": "2024-11-22T04:59:01.935210800Z"
    }
   },
   "id": "3a96b0581ce1dffb",
   "execution_count": 9
  },
  {
   "cell_type": "code",
   "outputs": [
    {
     "data": {
      "text/plain": "{'data': [{'age': 60, 'bmi': 18, 'children': 0, 'smoker': 'no'},\n  {'age': 21, 'bmi': 36, 'children': 2, 'smoker': 'yes'},\n  {'age': 24, 'bmi': 25, 'children': 0, 'smoker': 'no'}]}"
     },
     "execution_count": 10,
     "metadata": {},
     "output_type": "execute_result"
    }
   ],
   "source": [
    "input_pred"
   ],
   "metadata": {
    "collapsed": false,
    "ExecuteTime": {
     "end_time": "2024-11-22T04:59:04.330731900Z",
     "start_time": "2024-11-22T04:59:04.289731500Z"
    }
   },
   "id": "eb5fe6fdc48d90b",
   "execution_count": 10
  },
  {
   "cell_type": "code",
   "outputs": [
    {
     "data": {
      "text/plain": "<Response [200]>"
     },
     "execution_count": 19,
     "metadata": {},
     "output_type": "execute_result"
    }
   ],
   "source": [
    "response = requests.post(URL, json=input_pred)\n",
    "response"
   ],
   "metadata": {
    "collapsed": false,
    "ExecuteTime": {
     "end_time": "2024-11-22T05:02:06.788736200Z",
     "start_time": "2024-11-22T05:02:02.891655700Z"
    }
   },
   "id": "a6034167e8c2f869",
   "execution_count": 19
  },
  {
   "cell_type": "code",
   "outputs": [
    {
     "data": {
      "text/plain": "[13764.151631759834, 37484.176520927766, 4130.0275674426175]"
     },
     "execution_count": 20,
     "metadata": {},
     "output_type": "execute_result"
    }
   ],
   "source": [
    "response.json()"
   ],
   "metadata": {
    "collapsed": false,
    "ExecuteTime": {
     "end_time": "2024-11-22T05:02:24.530824400Z",
     "start_time": "2024-11-22T05:02:24.503825Z"
    }
   },
   "id": "c94fe0609d577386",
   "execution_count": 20
  },
  {
   "cell_type": "code",
   "outputs": [],
   "source": [],
   "metadata": {
    "collapsed": false
   },
   "id": "56f34461d80d1c89"
  }
 ],
 "metadata": {
  "kernelspec": {
   "display_name": "Python 3 (ipykernel)",
   "language": "python",
   "name": "python3"
  },
  "language_info": {
   "codemirror_mode": {
    "name": "ipython",
    "version": 3
   },
   "file_extension": ".py",
   "mimetype": "text/x-python",
   "name": "python",
   "nbconvert_exporter": "python",
   "pygments_lexer": "ipython3",
   "version": "3.9.13"
  }
 },
 "nbformat": 4,
 "nbformat_minor": 5
}
